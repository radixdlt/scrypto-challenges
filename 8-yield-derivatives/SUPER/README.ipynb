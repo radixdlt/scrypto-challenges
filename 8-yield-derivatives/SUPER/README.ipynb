{
 "cells": [
  {
   "cell_type": "markdown",
   "source": [
    "# SUPER IYO (Initial Yield Offering)\n",
    "\n",
    "---\n",
    "---\n",
    "---\n",
    "\n",
    "## Strategy\n",
    "\n",
    "---\n",
    "---\n",
    "<br class=\"rr\"/>\n",
    "\n",
    "The strategy for raising capital through an initial yield offering revolves around the idea of \n",
    "* Oppurtunity cost\n",
    "* Establishing trust between users and developers, trustlessly.\n",
    "* Active Yield Management Strategies\n"
   ],
   "metadata": {
    "collapsed": false
   },
   "id": "97ffe43ef39599bf"
  },
  {
   "cell_type": "markdown",
   "id": "a6e85a2654033b18",
   "metadata": {
    "collapsed": false
   },
   "source": [
    "## Context\n",
    "\n",
    "---\n",
    "---\n",
    "\n",
    "##### The IYO uses the above strategy to raise funds for the development of <u>__FLOWW__</u>. \n",
    "\n",
    "<u>__FLOWW__</u> is earned by exchanging it for various forms of <u>__SUPER__</u>.\n"
   ]
  },
  {
   "cell_type": "markdown",
   "id": "184a85da38c0fc34",
   "metadata": {
    "collapsed": false
   },
   "source": [
    "### Actors\n",
    "\n",
    "---\n",
    "The Initial Yield Offering has been built with the following four actors in mind:\n",
    "* **Participants / People / You**: A participant in the initial yield offering\n",
    "* **Owner / Developer**: Although the smart contract has only 1 owner, it can be easily configured for multiple developers. ([scrypto-examples/core/vesting](https://github.com/radixdlt/scrypto-examples/blob/5b8454df9b8c80fef92b7bca79733c218be9228b/core/vesting/README.md#L21))\n",
    "* **Component**: The Initial Yield Offering component itself, which manages state.\n",
    "* **Database Updater**: A bot that works on behalf of the component to keep component state up to date, built with RET.\n"
   ]
  },
  {
   "cell_type": "markdown",
   "id": "8b768415091060c0",
   "metadata": {
    "collapsed": false
   },
   "source": [
    "### Definitions\n",
    "\n",
    "---\n",
    "<br/>\n",
    "\n",
    "Participants will be able to exchange their Principal and Yield tokens in exchange for __FLOWW__, after a development / maturity period of 16 weeks.\n",
    "Participants' share of __FLOWW__ is based on the amount of Principal and Yield tokens they own. since each token has seperate alloctions.\n"
   ]
  },
  {
   "cell_type": "markdown",
   "id": "47dddf71f86cbbd3",
   "metadata": {
    "collapsed": false
   },
   "source": [
    "### Token Definitions:\n",
    "\n",
    "---\n",
    "\n",
    "##### Part of IYO\n",
    "\n",
    "* __PT (Principal token)__ : SUPER\n",
    "* __YT (Yield token)__ : SUPERy\n",
    "* __Yield NFT__ : SUPER Yield NFT\n",
    "* __Trust token__ : SUPERt\n",
    "\n",
    "##### Being funded by IYO\n",
    "\n",
    "*  __FLOWW__\n",
    "\n",
    "**Note**: *Although I refer to SUPERy as my YT, the actual YT here is the Yield NFT, which represents some amount of yield that you can claim after the Development period is complete.*\n"
   ]
  },
  {
   "cell_type": "markdown",
   "id": "729d87a7422a8e8e",
   "metadata": {
    "collapsed": false
   },
   "source": [
    "### Assumptions\n",
    "\n",
    "---\n",
    " - IYO begins on 2024-05-03 at 15:00 UTC (12 hours remain)  \n",
    "  \n"
   ]
  },
  {
   "cell_type": "markdown",
   "id": "e8f02b1247a91a24",
   "metadata": {
    "collapsed": false
   },
   "source": [
    "### FLOWW Tokenomics\n",
    "\n",
    "---\n",
    "In order to explain the IYO architecture effectively, I will briefly touch upon the (hypothetical) tokenomics of FLOWW:  \n",
    "  \n",
    "The tokenomics for FLOWW token closely follow similar interest-free stablecoin [tokenomics](https://medium.com/liquity/liquity-launch-details-4537c5ffa9ea):  \n",
    "<br>\n",
    "<img src=\"./figure 86.png\" alt=\"Tokenomics\" style=\"margin-top: 10px; \">\n",
    "<br>\n",
    "\n",
    "There are 100 million tokens, and 40 million of them will be distributed as part of the IYO. The 40 million is distributed equally between SUPER and SUPERy holders.\n"
   ]
  },
  {
   "cell_type": "markdown",
   "id": "4c85f7fbca32c8ae",
   "metadata": {
    "collapsed": false
   },
   "source": [
    "## Smart Contract Architecture\n",
    "\n",
    "---\n",
    "---\n",
    "<br/>\n",
    "Below is the struct for the main component, SUPER, which is dissected in this section.  \n"
   ]
  },
  {
   "cell_type": "markdown",
   "id": "7bf8c898",
   "metadata": {},
   "source": [
    "***Note***: The terms below are consistently used across the frontend, backend, and smart contract:\n",
    "* **addy** = general shorthand for address\n",
    "* **raddy** = general shorthand for ResourceAddress\n",
    "* **caddy** = general shorthand for ComponentAddress\n"
   ]
  },
  {
   "cell_type": "markdown",
   "id": "58a227b5761c8ee",
   "metadata": {
    "collapsed": false
   },
   "source": [
    "```rust\n",
    "struct Super {\n",
    "    \n",
    "test_mode: bool, \n",
    "\n",
    "icons: IconSet, \n",
    "active_colors: IconUrls, \n",
    "\n",
    "dapp_definition_caddy: Vec<GlobalAddress>, \n",
    "//...\n",
    "```\n",
    "---\n",
    "```rust\n",
    "//...\n",
    "//Owner Vesting Vault\n",
    "vesting_vault: Vault, \n",
    "vested_withdrawal_amount: Decimal, \n",
    "unclaimed_super_yield: Decimal, \n",
    "//...\n",
    "```\n",
    "---\n",
    "```rust\n",
    "//...\n",
    "pool: Global<OneResourcePool>, \n",
    "\n",
    "//ResourceManagers\n",
    "super_manager: ResourceManager, \n",
    "super_yield_manager: ResourceManager, \n",
    "yield_nft_manager: ResourceManager, \n",
    "//...\n",
    "```\n",
    "---\n",
    "```rust\n",
    "//...\n",
    "//Badge Resource Addresses\n",
    "owner_badge_raddy: ResourceAddress, \n",
    "component_badge_raddy: ResourceAddress, \n",
    "db_updater_raddy: ResourceAddress, \n",
    "//...\n",
    "```\n",
    "---\n",
    "```rust\n",
    "//...\n",
    "//Token Resource Addresses\n",
    "super_raddy: ResourceAddress, \n",
    "super_y_raddy: ResourceAddress, \n",
    "super_t_raddy: ResourceAddress, \n",
    "yield_nft_raddy: ResourceAddress, \n",
    "//...\n",
    "```\n",
    "---\n",
    "```rust\n",
    "//...\n",
    "//AVLTrees\n",
    "yield_nft_db: AvlTree<u64, YieldClaim>, // <nft_local_addy, nft_data>\n",
    "yield_generated_db: AvlTree<u64, Decimal>, // <nft_local_addy, yield_generated_so_far>\n",
    "vested_withdrawals_db: AvlTree<u64, bool>, // <hour_of_withdrawal, withdrawal_used>\n",
    "hourly_super_minted: AvlTree<u64, u64>,   // <hour, total_n_super>\n",
    "hour_updated_checklist: AvlTree<u64, bool>, \n",
    "//...\n",
    "```\n",
    "---\n",
    "```rust\n",
    "//...\n",
    "//Token Sale Status flags\n",
    "sale_started: bool, \n",
    "sale_completed: bool, \n",
    "time_sale_start: Instant, \n",
    "time_sale_end: Instant, \n",
    "dbs_updated_up_to_before_hour: u64, \n",
    "sale_details: SaleDetailEvent, \n",
    "}\n",
    "[END]\n",
    "```\n"
   ]
  },
  {
   "cell_type": "markdown",
   "id": "03d89781",
   "metadata": {},
   "source": [
    "## Handling Scrypto Runtime Events in the Front and Back End\n",
    "\n",
    "---\n",
    "---\n",
    "<br/>\n"
   ]
  },
  {
   "cell_type": "markdown",
   "id": "75b184f8",
   "metadata": {},
   "source": [
    "## Back End Architecture\n",
    "\n",
    "---\n",
    "---\n",
    "<br/>\n"
   ]
  },
  {
   "cell_type": "markdown",
   "id": "91a06b4d",
   "metadata": {},
   "source": [
    "### Handling Events with MongoDB\n",
    "\n",
    "---\n",
    "<br/>\n"
   ]
  },
  {
   "cell_type": "markdown",
   "id": "cd4443a3",
   "metadata": {},
   "source": []
  }
 ],
 "metadata": {
  "kernelspec": {
   "display_name": "Python 3 (ipykernel)",
   "language": "python",
   "name": "python3"
  },
  "language_info": {
   "codemirror_mode": {
    "name": "ipython",
    "version": 3
   },
   "file_extension": ".py",
   "mimetype": "text/x-python",
   "name": "python",
   "nbconvert_exporter": "python",
   "pygments_lexer": "ipython3",
   "version": "3.12.3"
  }
 },
 "nbformat": 4,
 "nbformat_minor": 5
}
